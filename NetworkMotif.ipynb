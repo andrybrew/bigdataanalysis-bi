{
  "nbformat": 4,
  "nbformat_minor": 0,
  "metadata": {
    "colab": {
      "provenance": [],
      "authorship_tag": "ABX9TyPOlH8K+SHzdDTONRMm5t5N",
      "include_colab_link": true
    },
    "kernelspec": {
      "name": "python3",
      "display_name": "Python 3"
    },
    "language_info": {
      "name": "python"
    }
  },
  "cells": [
    {
      "cell_type": "markdown",
      "metadata": {
        "id": "view-in-github",
        "colab_type": "text"
      },
      "source": [
        "<a href=\"https://colab.research.google.com/github/andrybrew/bigdataanalysis-bi/blob/master/NetworkMotif.ipynb\" target=\"_parent\"><img src=\"https://colab.research.google.com/assets/colab-badge.svg\" alt=\"Open In Colab\"/></a>"
      ]
    },
    {
      "cell_type": "code",
      "execution_count": null,
      "metadata": {
        "id": "vbAzEBVZD1XG"
      },
      "outputs": [],
      "source": []
    },
    {
      "cell_type": "markdown",
      "source": [],
      "metadata": {
        "id": "32haxrvqD9y9"
      }
    },
    {
      "cell_type": "code",
      "source": [
        "import csv\n",
        "from collections import defaultdict\n",
        "from itertools import combinations\n",
        "\n",
        "def load_graph_from_csv(file_path):\n",
        "    graph = defaultdict(set)\n",
        "    with open(file_path, 'r') as file:\n",
        "        reader = csv.reader(file)\n",
        "        for row in reader:\n",
        "            source, target = row\n",
        "            graph[source].add(target)\n",
        "    return graph\n",
        "\n",
        "def identify_motif(u, v, w, graph):\n",
        "    # Define directed edges among nodes\n",
        "    uv = (v in graph[u])\n",
        "    vu = (u in graph[v])\n",
        "    uw = (w in graph[u])\n",
        "    wu = (u in graph[w])\n",
        "    vw = (w in graph[v])\n",
        "    wv = (v in graph[w])\n",
        "\n",
        "    # Identify motifs based on presence of edges\n",
        "    if uv and vw and wu:\n",
        "        return \"Motif 11\"  # Complete directed triangle\n",
        "    elif uv and vw and wv:\n",
        "        return \"Motif 13\"  # Fully connected, bidirectional\n",
        "    elif uv and vu and wv:\n",
        "        return \"Motif 12\"  # Feedback loop with extra edge\n",
        "    elif uv and vu:\n",
        "        if vw:\n",
        "            return \"Motif 9\"  # Chain + direct edge\n",
        "        elif wu:\n",
        "            return \"Motif 7\"  # V-Structure with reverse edge\n",
        "        else:\n",
        "            return \"Motif 1\"  # Basic V-Structure\n",
        "    elif uv and vw:\n",
        "        if wv:\n",
        "            return \"Motif 10\"  # V-Structure + extra edge\n",
        "        elif wu:\n",
        "            return \"Motif 5\"  # Chain + extra edge\n",
        "        else:\n",
        "            return \"Motif 2\"  # Simple Chain\n",
        "    elif vu and wv:\n",
        "        if uw:\n",
        "            return \"Motif 4\"  # V-Structure + extra edge\n",
        "        else:\n",
        "            return \"Motif 3\"  # Reverse Chain\n",
        "    elif uw and wu:\n",
        "        return \"Motif 6\"  # Cycle\n",
        "    elif uv or vu or vw or wv or uw or wu:\n",
        "        return \"Motif 8\"  # Partial triangle or mixed loop\n",
        "    else:\n",
        "        return \"Disconnected\"\n",
        "\n",
        "def count_motifs(graph):\n",
        "    motif_counts = {f\"Motif {i}\": 0 for i in range(1, 14)}\n",
        "\n",
        "    nodes = list(graph.keys())\n",
        "    for u, v, w in combinations(nodes, 3):\n",
        "        motif = identify_motif(u, v, w, graph)\n",
        "        if motif != \"Disconnected\":\n",
        "            motif_counts[motif] += 1\n",
        "\n",
        "    return motif_counts\n",
        "\n",
        "def main(input_csv):\n",
        "    graph = load_graph_from_csv(input_csv)\n",
        "    motif_counts = count_motifs(graph)\n",
        "\n",
        "    for motif, count in motif_counts.items():\n",
        "        print(f\"{motif}: {count}\")\n",
        "\n",
        "if __name__ == \"__main__\":\n",
        "    input_csv = 'facebookN333E2520.csv'  # Replace with your actual CSV file path\n",
        "    main(input_csv)\n",
        "\n"
      ],
      "metadata": {
        "colab": {
          "base_uri": "https://localhost:8080/"
        },
        "id": "xhSHpFnkECqs",
        "outputId": "63539b62-2de5-4738-b907-dc649d5cf565"
      },
      "execution_count": null,
      "outputs": [
        {
          "output_type": "stream",
          "name": "stdout",
          "text": [
            "Motif 1: 0\n",
            "Motif 2: 5080\n",
            "Motif 3: 5208\n",
            "Motif 4: 1404\n",
            "Motif 5: 0\n",
            "Motif 6: 0\n",
            "Motif 7: 0\n",
            "Motif 8: 707750\n",
            "Motif 9: 0\n",
            "Motif 10: 0\n",
            "Motif 11: 1350\n",
            "Motif 12: 0\n",
            "Motif 13: 0\n"
          ]
        }
      ]
    }
  ]
}