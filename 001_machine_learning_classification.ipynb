{
  "nbformat": 4,
  "nbformat_minor": 0,
  "metadata": {
    "colab": {
      "name": "001_machine_learning_classification.ipynb",
      "provenance": [],
      "collapsed_sections": [],
      "toc_visible": true,
      "include_colab_link": true
    },
    "kernelspec": {
      "name": "python3",
      "display_name": "Python 3"
    }
  },
  "cells": [
    {
      "cell_type": "markdown",
      "metadata": {
        "id": "view-in-github",
        "colab_type": "text"
      },
      "source": [
        "<a href=\"https://colab.research.google.com/github/andrybrew/bigdatanalysis-bi/blob/master/001_machine_learning_classification.ipynb\" target=\"_parent\"><img src=\"https://colab.research.google.com/assets/colab-badge.svg\" alt=\"Open In Colab\"/></a>"
      ]
    },
    {
      "cell_type": "markdown",
      "metadata": {
        "id": "M9PJvs2b9Qux",
        "colab_type": "text"
      },
      "source": [
        "# **Classification - German Credit Risk**"
      ]
    },
    {
      "cell_type": "markdown",
      "metadata": {
        "id": "mFCPiyAA9TAc",
        "colab_type": "text"
      },
      "source": [
        "Classification is the problem of identifying to which of a set of categories (sub-populations) a new observation belongs, on the basis of a training set of data containing observations (or instances) whose category membership is known. In this section, we will use credit risk as our classification case study.\n",
        "\n",
        "“It takes money to make more money”. As an individual or company when we want to lend money, we set some critical parameters or guidelines to understand the credit risk. In this project, our aim is to analyze good and bad credit risk associated with individuals. The purpose of this stage of the project is to build classifiers which will help in predicting whether or not an individual has good or bad credit risk. This will be based on German Credit Dataset, which was sourced from Kaggle Repository.\n",
        "\n",
        "Each person is classified as good (1) or bad (0) credit risks according these attributes:\n",
        "\n",
        "1.   Age (numeric)\n",
        "2.   Sex (text: male, female)\n",
        "3.   Job (numeric: 0 - unskilled and non-resident, 1 - unskilled and resident, 2 - skilled, 3 - highly skilled)\n",
        "4.   Housing (text: own, rent, or free)\n",
        "5.   Saving accounts (text - little, moderate, quite rich, rich)\n",
        "6.   Checking account (numeric, in DM - Deutsch Mark)\n",
        "7.   Credit amount (numeric, in DM)\n",
        "8.   Duration (numeric, in month)\n",
        "9.   Purpose (text: car, furniture/equipment, radio/TV, domestic appliances, repairs, education, business, vacation/others)"
      ]
    },
    {
      "cell_type": "markdown",
      "metadata": {
        "id": "JsxJozCbS9Vu",
        "colab_type": "text"
      },
      "source": [
        "#### **Install and Import Libraries**"
      ]
    },
    {
      "cell_type": "markdown",
      "metadata": {
        "id": "kqLFUiWbFe2g",
        "colab_type": "text"
      },
      "source": [
        "Before we begin to implement our classifier, we need to import some libraries to use them later. Here are the libraries we need to import."
      ]
    },
    {
      "cell_type": "markdown",
      "metadata": {
        "id": "0stp2RaTxTW6",
        "colab_type": "text"
      },
      "source": [
        "***Install Library***"
      ]
    },
    {
      "cell_type": "code",
      "metadata": {
        "id": "_G2Z9ytqxbYJ",
        "colab_type": "code",
        "colab": {}
      },
      "source": [
        "# Install Category Encoders\n",
        "! pip install category_encoders"
      ],
      "execution_count": null,
      "outputs": []
    },
    {
      "cell_type": "markdown",
      "metadata": {
        "id": "FyLVQ8XixY40",
        "colab_type": "text"
      },
      "source": [
        "***Import Libraries***"
      ]
    },
    {
      "cell_type": "code",
      "metadata": {
        "id": "i61sbWLG9JRA",
        "colab_type": "code",
        "colab": {}
      },
      "source": [
        "# Import Library for Data Manipulation\n",
        "import pandas as pd\n",
        "import category_encoders as ce\n",
        "\n",
        "# Import Library for Machine Learning\n",
        "import sklearn.metrics as metrics\n",
        "\n",
        "# Import Library for Visualization\n",
        "import matplotlib. pyplot as plt\n",
        "import seaborn as sns"
      ],
      "execution_count": null,
      "outputs": []
    },
    {
      "cell_type": "markdown",
      "metadata": {
        "id": "1qJ2DGvkTcvA",
        "colab_type": "text"
      },
      "source": [
        "#### **Import Dataset**"
      ]
    },
    {
      "cell_type": "markdown",
      "metadata": {
        "id": "OLNWCxVuGdjq",
        "colab_type": "text"
      },
      "source": [
        "Then, import our credit risk dataset into this notebook using Pandas library. Then, we discover the dataset information and statistics."
      ]
    },
    {
      "cell_type": "markdown",
      "metadata": {
        "id": "a6rAh1pqoWVl",
        "colab_type": "text"
      },
      "source": [
        "***Credit Risk Data***"
      ]
    },
    {
      "cell_type": "code",
      "metadata": {
        "id": "zrQ_G5aQTcX3",
        "colab_type": "code",
        "colab": {}
      },
      "source": [
        "# Import Dataset\n",
        "df_credit = pd.read_csv('https://raw.githubusercontent.com/dianrdn/data/master/german_credit_data3.csv', sep =';')\n",
        "df_credit"
      ],
      "execution_count": null,
      "outputs": []
    },
    {
      "cell_type": "code",
      "metadata": {
        "id": "oOYs-ahcT15W",
        "colab_type": "code",
        "colab": {}
      },
      "source": [
        "# Prints the Dataset Information\n",
        "df_credit.info()"
      ],
      "execution_count": null,
      "outputs": []
    },
    {
      "cell_type": "code",
      "metadata": {
        "id": "Xy6SGLZGT6Bg",
        "colab_type": "code",
        "colab": {}
      },
      "source": [
        "# Prints Descriptive Statistics\n",
        "df_credit.describe().transpose()"
      ],
      "execution_count": null,
      "outputs": []
    },
    {
      "cell_type": "markdown",
      "metadata": {
        "id": "vSfvwOFtUo3Z",
        "colab_type": "text"
      },
      "source": [
        "#### **Explore the Dataset**"
      ]
    },
    {
      "cell_type": "markdown",
      "metadata": {
        "id": "-yKPOUMYHYdK",
        "colab_type": "text"
      },
      "source": [
        "We need to visualize the data before implement our classifier. Data visualization is the act of taking information (data) and placing it into a visual context, such as a map or graph. Data visualizations make big and small data easier for the human brain to understand, and visualization also makes it easier to detect patterns, trends, and outliers in groups of data. Here we use Seaborn library."
      ]
    },
    {
      "cell_type": "markdown",
      "metadata": {
        "id": "-ChlrsJCq20b",
        "colab_type": "text"
      },
      "source": [
        "***Visualize Data using Pairplot***"
      ]
    },
    {
      "cell_type": "code",
      "metadata": {
        "id": "bWNM6O_HXPr9",
        "colab_type": "code",
        "colab": {}
      },
      "source": [
        "# Set Graph Size\n",
        "plt.rcParams['figure.figsize'] = (16, 8)\n",
        "\n",
        "# Visualize Pair Plot with Colors\n",
        "sns.pairplot(df_credit, hue='risk')"
      ],
      "execution_count": null,
      "outputs": []
    },
    {
      "cell_type": "markdown",
      "metadata": {
        "id": "STVZQt4CuhOC",
        "colab_type": "text"
      },
      "source": [
        "***Visualize Correlation between Features***"
      ]
    },
    {
      "cell_type": "code",
      "metadata": {
        "id": "LJFC8ViouWfY",
        "colab_type": "code",
        "colab": {}
      },
      "source": [
        "# Draw Correlation Map\n",
        "sns.clustermap(df_credit.corr(), center=0, cmap='vlag', linewidths=.75)"
      ],
      "execution_count": null,
      "outputs": []
    },
    {
      "cell_type": "markdown",
      "metadata": {
        "id": "3R3_fHaNgxnn",
        "colab_type": "text"
      },
      "source": [
        "#### **Preprocess the Data**"
      ]
    },
    {
      "cell_type": "markdown",
      "metadata": {
        "id": "awq12zqCI88X",
        "colab_type": "text"
      },
      "source": [
        "We should transforms raw data into an understandable format. Raw data cannot be sent through a model because would cause certain errors. That is why we need to preprocess data before sending through a model."
      ]
    },
    {
      "cell_type": "markdown",
      "metadata": {
        "id": "QrK5ahZiajKk",
        "colab_type": "text"
      },
      "source": [
        "***Handling Missing Values***"
      ]
    },
    {
      "cell_type": "code",
      "metadata": {
        "id": "5UmTO7z7aqLt",
        "colab_type": "code",
        "colab": {}
      },
      "source": [
        "# Check for Missing Values\n",
        "df_credit.isnull().sum()"
      ],
      "execution_count": null,
      "outputs": []
    },
    {
      "cell_type": "markdown",
      "metadata": {
        "id": "g9dAZlmkyKpD",
        "colab_type": "text"
      },
      "source": [
        "***Encode Categorical Data***"
      ]
    },
    {
      "cell_type": "markdown",
      "metadata": {
        "id": "c-FNqDNqJGcD",
        "colab_type": "text"
      },
      "source": [
        "Data encoding purposed to transform a categorical data into binary numeric format. Here we use OneHotencoder module from sklearn to encode our categorical data."
      ]
    },
    {
      "cell_type": "code",
      "metadata": {
        "id": "TZSW6OQ-x5rH",
        "colab_type": "code",
        "colab": {}
      },
      "source": [
        "# Import Module\n",
        "from sklearn.preprocessing import OneHotEncoder\n",
        "\n",
        "# Encoder\n",
        "encoder = OneHotEncoder(sparse=False)\n",
        "\n",
        "# Encode Categorical Data\n",
        "df_credit2 = pd.DataFrame(encoder.fit_transform(df_credit[['sex',\t'housing',\t'saving',\t'checking', 'purpose']]))\n",
        "df_credit2.columns = encoder.get_feature_names(['sex', 'housing', 'saving', 'checking', 'purpose'])\n",
        "\n",
        "# Concat the Encoded Data\n",
        "df_credit_encoded = df_credit.drop(['sex', 'housing', 'saving', 'checking', 'purpose'] ,axis=1, inplace=True)\n",
        "df_credit_encoded = pd.concat([df_credit, df_credit2], axis=1)\n",
        "\n",
        "# Show Encoded Dataframe\n",
        "df_credit_encoded"
      ],
      "execution_count": null,
      "outputs": []
    },
    {
      "cell_type": "markdown",
      "metadata": {
        "id": "BkoumkCc0Pxn",
        "colab_type": "text"
      },
      "source": [
        "***Select Feature and Target***"
      ]
    },
    {
      "cell_type": "markdown",
      "metadata": {
        "id": "xWht5tYwNFlr",
        "colab_type": "text"
      },
      "source": [
        "Features are individual independent variables that act as the input in your system while target is whatever the output of the input variables. "
      ]
    },
    {
      "cell_type": "code",
      "metadata": {
        "id": "3TsxYmD90T1O",
        "colab_type": "code",
        "colab": {}
      },
      "source": [
        "# Select Features\n",
        "feature = df_credit_encoded.drop(['risk'], axis=1)\n",
        "feature"
      ],
      "execution_count": null,
      "outputs": []
    },
    {
      "cell_type": "code",
      "metadata": {
        "id": "z4F1QIoR0rjm",
        "colab_type": "code",
        "colab": {}
      },
      "source": [
        "# Select Target\n",
        "target = df_credit_encoded['risk']\n",
        "target"
      ],
      "execution_count": null,
      "outputs": []
    },
    {
      "cell_type": "markdown",
      "metadata": {
        "id": "beVc-OYc1Qsi",
        "colab_type": "text"
      },
      "source": [
        "***Set Training and Testing Data***"
      ]
    },
    {
      "cell_type": "markdown",
      "metadata": {
        "id": "OUVDWVO7F7NQ",
        "colab_type": "text"
      },
      "source": [
        "The next step is to split our data into tran and test sets. For this purpose, we use the scikit-learn's train_test_split function."
      ]
    },
    {
      "cell_type": "code",
      "metadata": {
        "id": "5-BgCFd61WR6",
        "colab_type": "code",
        "colab": {}
      },
      "source": [
        "# Import Module\n",
        "from sklearn.model_selection import train_test_split, cross_val_score\n",
        "\n",
        "# Set Training and Testing Data (70:30)\n",
        "feature_train, feature_test, target_train, target_test = train_test_split(feature , target, shuffle = True, test_size=0.3, random_state=1)\n",
        "\n",
        "# Show the Training and Testing Data\n",
        "print(feature_train.shape)\n",
        "print(feature_test.shape)\n",
        "print(target_train.shape)\n",
        "print(target_test.shape)"
      ],
      "execution_count": null,
      "outputs": []
    },
    {
      "cell_type": "markdown",
      "metadata": {
        "id": "w0nXSlRfUvAi",
        "colab_type": "text"
      },
      "source": [
        "#### **Modeling**"
      ]
    },
    {
      "cell_type": "markdown",
      "metadata": {
        "id": "BetFm0a08Wv7",
        "colab_type": "text"
      },
      "source": [
        "##### **Decision Tree Classifier**"
      ]
    },
    {
      "cell_type": "markdown",
      "metadata": {
        "id": "LHORQb3zNwGE",
        "colab_type": "text"
      },
      "source": [
        "Decision tree learning is one of the predictive modelling approaches used in statistics, data mining and machine learning. It uses a decision tree (as a predictive model) to go from observations about an item (represented in the branches) to conclusions about the item's target value (represented in the leaves)."
      ]
    },
    {
      "cell_type": "markdown",
      "metadata": {
        "id": "BQ9ggByW1vuw",
        "colab_type": "text"
      },
      "source": [
        "***Build Model***"
      ]
    },
    {
      "cell_type": "code",
      "metadata": {
        "id": "TtI5tWFlflH5",
        "colab_type": "code",
        "colab": {}
      },
      "source": [
        "# Import library\n",
        "from sklearn import tree\n",
        "\n",
        "# Modeling Decision Tree\n",
        "dtree = tree.DecisionTreeClassifier(min_impurity_decrease=0.01)\n",
        "dtree.fit(feature_train, target_train)\n",
        "\n",
        "# Predict Test Data \n",
        "target_predicted_dtree = dtree.predict(feature_test)\n",
        "target_predicted_dtree"
      ],
      "execution_count": null,
      "outputs": []
    },
    {
      "cell_type": "code",
      "metadata": {
        "id": "fTUQdVas349J",
        "colab_type": "code",
        "colab": {}
      },
      "source": [
        "# Visualize Tree\n",
        "\n",
        "from six import StringIO  \n",
        "from IPython.display import Image  \n",
        "from sklearn.tree import export_graphviz\n",
        "import pydotplus\n",
        "\n",
        "dot_data = StringIO()\n",
        "export_graphviz(dtree, out_file=dot_data,  \n",
        "                filled=True, rounded=True,\n",
        "                special_characters=True,\n",
        "                class_names=['bad','good'],\n",
        "                feature_names=['age',\t'job',\t'creditamount',\t'duration',\t'sex_female',\t'sex_male',\t'housing_free',\n",
        "                        \t    'housing_own',\t'housing_rent',\t'saving_little',\t'saving_moderate',\t'saving_quiterich',\t\n",
        "                              'saving_rich', 'saving_unknown', 'checking_little',\t'checking_moderate',\t'checking_rich',\n",
        "                              'checking_unknown',\t'purpose_business',\n",
        "                              'purpose_car',\t'purpose_domesticappliances',\t'purpose_education', 'purpose_furniture/equipment',\n",
        "                              'purpose_radio/TV',\t'purpose_repairs',\t'purpose_vacation/others'])\n",
        "graph = pydotplus.graph_from_dot_data(dot_data.getvalue())  \n",
        "Image(graph.create_png())"
      ],
      "execution_count": null,
      "outputs": []
    },
    {
      "cell_type": "markdown",
      "metadata": {
        "id": "czEbGDKX6Z9W",
        "colab_type": "text"
      },
      "source": [
        "***Model Evaluation***"
      ]
    },
    {
      "cell_type": "code",
      "metadata": {
        "id": "gKO27Ejn7Cj1",
        "colab_type": "code",
        "colab": {}
      },
      "source": [
        "# Confsion Matrix\n",
        "cm_dtree = metrics.confusion_matrix(target_test, target_predicted_dtree)\n",
        "cm_dtree"
      ],
      "execution_count": null,
      "outputs": []
    },
    {
      "cell_type": "code",
      "metadata": {
        "id": "nlBirj1c6hwN",
        "colab_type": "code",
        "colab": {}
      },
      "source": [
        "# Accuracy, Precision, Recall\n",
        "acc_dtree = metrics.accuracy_score(target_test, target_predicted_dtree)\n",
        "prec_dtree = metrics.precision_score(target_test, target_predicted_dtree)\n",
        "rec_dtree = metrics.recall_score(target_test, target_predicted_dtree)\n",
        "f1_dtree = metrics.f1_score(target_test, target_predicted_dtree)\n",
        "kappa_dtree = metrics.cohen_kappa_score(target_test, target_predicted_dtree)\n",
        "\n",
        "# Show Accuracy, Precision, Recall\n",
        "print('Accuracy:', acc_dtree )\n",
        "print('Precision:', prec_dtree)\n",
        "print('Recall:', rec_dtree)\n",
        "print('F1 Score:', f1_dtree)\n",
        "print('Cohens Kappa Score:', kappa_dtree)"
      ],
      "execution_count": null,
      "outputs": []
    },
    {
      "cell_type": "code",
      "metadata": {
        "id": "tp2o_M1D6rKA",
        "colab_type": "code",
        "colab": {}
      },
      "source": [
        "# Import Visualization Package\n",
        "plt.rcParams['figure.figsize'] = (10, 10)\n",
        "plt.style.use('ggplot')\n",
        "\n",
        "# Visualize ROC Curve\n",
        "target_predicted_dtree_prob = dtree.predict_proba(feature_test)[::,1]\n",
        "fp_rate_dtree, tp_rate_dtree, _ = metrics.roc_curve(target_test,  target_predicted_dtree_prob)\n",
        "auc_dtree = metrics.roc_auc_score(target_test, target_predicted_dtree_prob)\n",
        "plt.plot(fp_rate_dtree, tp_rate_dtree, label='Decision Tree, auc='+str(auc_dtree))\n",
        "plt.xlabel('false positive rate') \n",
        "plt.ylabel('true positive rate')\n",
        "plt.legend(loc=4)\n",
        "plt.show()"
      ],
      "execution_count": null,
      "outputs": []
    },
    {
      "cell_type": "markdown",
      "metadata": {
        "colab_type": "text",
        "id": "8NdA3tVN8gHI"
      },
      "source": [
        "##### **K-Nearest Neighbor Classifier**"
      ]
    },
    {
      "cell_type": "markdown",
      "metadata": {
        "id": "3Pdvb_HoeBIF",
        "colab_type": "text"
      },
      "source": [
        "K nearest neighbors is a simple algorithm that stores all available cases and classifies new cases based on a similarity measure (e.g., distance functions). KNN has been used in statistical estimation and pattern recognition already in the beginning of 1970's as a non-parametric technique."
      ]
    },
    {
      "cell_type": "markdown",
      "metadata": {
        "colab_type": "text",
        "id": "wGoaggS98gHK"
      },
      "source": [
        "***Build Model***"
      ]
    },
    {
      "cell_type": "code",
      "metadata": {
        "colab_type": "code",
        "id": "KwD6j_Tz8gHO",
        "colab": {}
      },
      "source": [
        "# Import Module\n",
        "from sklearn.neighbors import KNeighborsClassifier\n",
        "\n",
        "# Modeling Naive Bayes\n",
        "knn = KNeighborsClassifier(n_neighbors= 71)\n",
        "knn.fit(feature_train, target_train)\n",
        "\n",
        "# Predict Test Data \n",
        "target_predicted_knn = knn.predict(feature_test)\n",
        "target_predicted_knn"
      ],
      "execution_count": null,
      "outputs": []
    },
    {
      "cell_type": "markdown",
      "metadata": {
        "colab_type": "text",
        "id": "UExc9lbu8gHV"
      },
      "source": [
        "***Model Evaluation***"
      ]
    },
    {
      "cell_type": "code",
      "metadata": {
        "colab_type": "code",
        "id": "ImsqBWDD8gHW",
        "colab": {}
      },
      "source": [
        "# Confsion Matrix\n",
        "cm_knn = metrics.confusion_matrix(target_test, target_predicted_knn)\n",
        "cm_knn"
      ],
      "execution_count": null,
      "outputs": []
    },
    {
      "cell_type": "code",
      "metadata": {
        "colab_type": "code",
        "id": "KRsTvIYX8gHZ",
        "colab": {}
      },
      "source": [
        "# Accuracy, Precision, Recall\n",
        "acc_knn = metrics.accuracy_score(target_test, target_predicted_knn)\n",
        "prec_knn = metrics.precision_score(target_test, target_predicted_knn)\n",
        "rec_knn = metrics.recall_score(target_test, target_predicted_knn)\n",
        "f1_knn = metrics.f1_score(target_test, target_predicted_knn)\n",
        "kappa_knn = metrics.cohen_kappa_score(target_test, target_predicted_knn)\n",
        "\n",
        "# Show Accuracy, Precision, Recall\n",
        "print('Accuracy:', acc_knn)\n",
        "print('Precision:', prec_knn)\n",
        "print('Recall:', rec_knn)\n",
        "print('F1 Score:', f1_knn)\n",
        "print('Cohens Kappa Score:', kappa_knn)"
      ],
      "execution_count": null,
      "outputs": []
    },
    {
      "cell_type": "code",
      "metadata": {
        "colab_type": "code",
        "id": "_q42OACu8gHb",
        "colab": {}
      },
      "source": [
        "# Import Visualization Package\n",
        "plt.rcParams['figure.figsize'] = (10, 10)\n",
        "plt.style.use('ggplot')\n",
        "\n",
        "# Visualize ROC Curve\n",
        "target_predicted_knn_prob = knn.predict_proba(feature_test)[::,1]\n",
        "fp_rate_knn, tp_rate_knn, _ = metrics.roc_curve(target_test,  target_predicted_knn_prob)\n",
        "auc_knn = metrics.roc_auc_score(target_test, target_predicted_knn_prob)\n",
        "plt.plot(fp_rate_knn, tp_rate_knn, label='KNN, auc='+str(auc_knn))\n",
        "plt.xlabel('false positive rate') \n",
        "plt.ylabel('true positive rate')\n",
        "plt.legend(loc=4)\n",
        "plt.show()"
      ],
      "execution_count": null,
      "outputs": []
    },
    {
      "cell_type": "markdown",
      "metadata": {
        "colab_type": "text",
        "id": "X3jogut69lMl"
      },
      "source": [
        "##### **Naive Bayes Classifier**"
      ]
    },
    {
      "cell_type": "markdown",
      "metadata": {
        "id": "akecl6P0eNHW",
        "colab_type": "text"
      },
      "source": [
        "Naïve Bayes classifiers are a family of simple \"probabilistic classifiers\" based on applying Bayes' theorem with strong (naïve) independence assumptions between the features. Naive Bayes is a simple technique for constructing classifiers: models that assign class labels to problem instances, represented as vectors of feature values, where the class labels are drawn from some finite set."
      ]
    },
    {
      "cell_type": "markdown",
      "metadata": {
        "colab_type": "text",
        "id": "w3m3nOCX9lMq"
      },
      "source": [
        "***Build Model***"
      ]
    },
    {
      "cell_type": "code",
      "metadata": {
        "colab_type": "code",
        "id": "GAKhoXd69lMt",
        "colab": {}
      },
      "source": [
        "# Import Module\n",
        "from sklearn.naive_bayes import GaussianNB \n",
        "\n",
        "# Modeling Naive Bayes\n",
        "nb = GaussianNB()\n",
        "nb.fit(feature_train, target_train)\n",
        "\n",
        "# Predict Test Data \n",
        "target_predicted_nb = nb.predict(feature_test)\n",
        "target_predicted_nb"
      ],
      "execution_count": null,
      "outputs": []
    },
    {
      "cell_type": "markdown",
      "metadata": {
        "colab_type": "text",
        "id": "LEQdq6Q29lMx"
      },
      "source": [
        "***Model Evaluation***"
      ]
    },
    {
      "cell_type": "code",
      "metadata": {
        "colab_type": "code",
        "id": "1Q2n8Oun9lMx",
        "colab": {}
      },
      "source": [
        "# Confsion Matrix\n",
        "cm_nb = metrics.confusion_matrix(target_test, target_predicted_nb)\n",
        "cm_nb"
      ],
      "execution_count": null,
      "outputs": []
    },
    {
      "cell_type": "code",
      "metadata": {
        "colab_type": "code",
        "id": "ET_Y-VD39lM1",
        "colab": {}
      },
      "source": [
        "# Accuracy, Precision, Recall\n",
        "acc_nb = metrics.accuracy_score(target_test, target_predicted_nb)\n",
        "prec_nb = metrics.precision_score(target_test, target_predicted_nb)\n",
        "rec_nb = metrics.recall_score(target_test, target_predicted_nb)\n",
        "f1_nb = metrics.f1_score(target_test, target_predicted_nb)\n",
        "kappa_nb = metrics.cohen_kappa_score(target_test, target_predicted_nb)\n",
        "\n",
        "# Show Accuracy, Precision, Recall\n",
        "print('Accuracy:', acc_nb)\n",
        "print('Precision:', prec_nb)\n",
        "print('Recall:', rec_nb)\n",
        "print('F1 Score:', f1_nb)\n",
        "print('Cohens Kappa Score:', kappa_nb)"
      ],
      "execution_count": null,
      "outputs": []
    },
    {
      "cell_type": "code",
      "metadata": {
        "colab_type": "code",
        "id": "egDxdqLr9lM3",
        "colab": {}
      },
      "source": [
        "# Import Visualization Package\n",
        "plt.rcParams['figure.figsize'] = (10, 10)\n",
        "plt.style.use('ggplot')\n",
        "\n",
        "# Visualize ROC Curve\n",
        "target_predicted_nb_prob = nb.predict_proba(feature_test)[::,1]\n",
        "fp_rate_nb, tp_rate_nb, _ = metrics.roc_curve(target_test,  target_predicted_nb_prob)\n",
        "auc_nb = metrics.roc_auc_score(target_test, target_predicted_nb_prob)\n",
        "plt.plot(fp_rate_nb, tp_rate_nb, label='Naive Bayes, auc='+str(auc_nb))\n",
        "plt.xlabel('false positive rate') \n",
        "plt.ylabel('true positive rate')\n",
        "plt.legend(loc=4)\n",
        "plt.show()"
      ],
      "execution_count": null,
      "outputs": []
    },
    {
      "cell_type": "markdown",
      "metadata": {
        "id": "rsqqZ-igGv4x",
        "colab_type": "text"
      },
      "source": [
        "#### **Evaluating Models**"
      ]
    },
    {
      "cell_type": "markdown",
      "metadata": {
        "id": "LzMIknZyI_dc",
        "colab_type": "text"
      },
      "source": [
        "***Compare Model Performance***"
      ]
    },
    {
      "cell_type": "code",
      "metadata": {
        "id": "EMiFGy5MGywu",
        "colab_type": "code",
        "colab": {}
      },
      "source": [
        "# Comparing Model Performance\n",
        "print('Decision Tree Accuracy =',acc_dtree)\n",
        "print('Decision Tree Precision =',prec_dtree)\n",
        "print('Decision Tree Recall =',rec_dtree)\n",
        "print('Decision Tree F1-Score =', f1_dtree)\n",
        "print('_______________________')\n",
        "print('k-NN Accuracy =', acc_knn)\n",
        "print('k-NN Precision =', prec_knn)\n",
        "print('k-NN Recall =', rec_knn)\n",
        "print('k-NN F1-Score =', f1_knn)\n",
        "print('_______________________')\n",
        "print('Naive Bayes Accuracy =', acc_nb)\n",
        "print('Naive Bayes Precision =', prec_nb)\n",
        "print('Naive Bayes Recall =', rec_nb)\n",
        "print('Naive Bayes F1-Score =', f1_nb)"
      ],
      "execution_count": null,
      "outputs": []
    },
    {
      "cell_type": "markdown",
      "metadata": {
        "id": "ViDJ86yMJCN8",
        "colab_type": "text"
      },
      "source": [
        "***Compare ROC Curve***"
      ]
    },
    {
      "cell_type": "code",
      "metadata": {
        "id": "2q4ZhqMzG0WM",
        "colab_type": "code",
        "colab": {}
      },
      "source": [
        "# Comparing ROC Curve\n",
        "plt.plot(fp_rate_dtree,tp_rate_dtree,label='Decision Tree, auc='+str(auc_dtree))\n",
        "plt.plot(fp_rate_knn,tp_rate_knn,label='K-NN, auc='+str(auc_knn))\n",
        "plt.plot(fp_rate_nb,tp_rate_nb,label='Naive Bayes, auc='+str(auc_nb))\n",
        "plt.title('ROC Curve')\n",
        "plt.xlabel('False Positive Rate')\n",
        "plt.ylabel('True Positive Rate')\n",
        "plt.legend(loc=4)\n",
        "plt.show()"
      ],
      "execution_count": null,
      "outputs": []
    },
    {
      "cell_type": "markdown",
      "metadata": {
        "id": "XlZzvjxKI4Va",
        "colab_type": "text"
      },
      "source": [
        "#### **Predict New Data**"
      ]
    },
    {
      "cell_type": "markdown",
      "metadata": {
        "id": "q6oWU933hkgq",
        "colab_type": "text"
      },
      "source": [
        "***Import New Credit Data***"
      ]
    },
    {
      "cell_type": "code",
      "metadata": {
        "id": "LjsfwTtEKVw7",
        "colab_type": "code",
        "colab": {}
      },
      "source": [
        "# Import New Dataset\n",
        "df_new_credit = pd.read_csv('https://raw.githubusercontent.com/dianrdn/data/master/german_new_credit_data.csv', sep =';')\n",
        "df_new_credit"
      ],
      "execution_count": null,
      "outputs": []
    },
    {
      "cell_type": "markdown",
      "metadata": {
        "id": "0lBpnVZyhnUl",
        "colab_type": "text"
      },
      "source": [
        "***Preprocess the New Credit Data***"
      ]
    },
    {
      "cell_type": "code",
      "metadata": {
        "id": "KD0sje6PgSZw",
        "colab_type": "code",
        "colab": {}
      },
      "source": [
        "# Import Module\n",
        "from sklearn.preprocessing import OneHotEncoder\n",
        "\n",
        "# Encoder\n",
        "encoder = OneHotEncoder(sparse=False)\n",
        "\n",
        "# Encode Categorical Data\n",
        "df_new_credit2 = pd.DataFrame(encoder.fit_transform(df_new_credit[['sex', 'housing', 'saving', 'checking', 'purpose']]))\n",
        "df_new_credit2.columns = encoder.get_feature_names(['sex', 'housing', 'saving', 'checking', 'purpose'])\n",
        "\n",
        "# Concat the Encoded Data\n",
        "df_new_credit_encoded = df_new_credit.drop(['sex', 'housing', 'saving', 'checking', 'purpose'] ,axis=1, inplace=True)\n",
        "df_new_credit_encoded = pd.concat([df_new_credit, df_new_credit2], axis=1)\n",
        "\n",
        "# Show Encoded Dataframe\n",
        "df_new_credit_encoded"
      ],
      "execution_count": null,
      "outputs": []
    },
    {
      "cell_type": "code",
      "metadata": {
        "id": "MEm6JPj8iaKw",
        "colab_type": "code",
        "colab": {}
      },
      "source": [
        "# Select Features\n",
        "new_feature = df_new_credit_encoded\n",
        "new_feature"
      ],
      "execution_count": null,
      "outputs": []
    },
    {
      "cell_type": "markdown",
      "metadata": {
        "id": "Mvc9qmcmhjzP",
        "colab_type": "text"
      },
      "source": [
        "***Predict New Customer Data***"
      ]
    },
    {
      "cell_type": "code",
      "metadata": {
        "id": "aeG_M45uKD84",
        "colab_type": "code",
        "colab": {}
      },
      "source": [
        "# Predict using Decision Tree Classifier\n",
        "new_predicted_dtree = pd.DataFrame(dtree.predict(new_feature), columns = ['creditrisk_dtree'])\n",
        "new_predicted_dtree.reset_index()\n",
        "new_predicted_dtree"
      ],
      "execution_count": null,
      "outputs": []
    },
    {
      "cell_type": "code",
      "metadata": {
        "id": "uKhUtNhdiuAh",
        "colab_type": "code",
        "colab": {}
      },
      "source": [
        "# Predict using K-Nearest Neighbor Classifier\n",
        "new_predicted_knn = pd.DataFrame(knn.predict(new_feature), columns = ['creditrisk_knn'])\n",
        "new_predicted_knn.reset_index()\n",
        "new_predicted_knn"
      ],
      "execution_count": null,
      "outputs": []
    },
    {
      "cell_type": "code",
      "metadata": {
        "id": "7mf99Ryei7_6",
        "colab_type": "code",
        "colab": {}
      },
      "source": [
        "# Predict using Naive Bayes Classifier\n",
        "new_predicted_nb = pd.DataFrame(nb.predict(new_feature), columns = ['creditrisk_nb'])\n",
        "new_predicted_nb.reset_index()\n",
        "new_predicted_nb"
      ],
      "execution_count": null,
      "outputs": []
    },
    {
      "cell_type": "markdown",
      "metadata": {
        "id": "8T10OLO-itg4",
        "colab_type": "text"
      },
      "source": [
        "***Show Prediction Comparation***"
      ]
    },
    {
      "cell_type": "code",
      "metadata": {
        "id": "IJJKIx6HinXk",
        "colab_type": "code",
        "colab": {}
      },
      "source": [
        "# Show Prediction Result\n",
        "pred_new_credit = pd.concat([df_new_credit, new_predicted_dtree, new_predicted_knn, new_predicted_nb], axis=1)\n",
        "pred_new_credit"
      ],
      "execution_count": null,
      "outputs": []
    },
    {
      "cell_type": "markdown",
      "metadata": {
        "id": "87l7KhR_jkee",
        "colab_type": "text"
      },
      "source": [
        "***Save Prediction Result***"
      ]
    },
    {
      "cell_type": "code",
      "metadata": {
        "id": "giHsuKnbjmcY",
        "colab_type": "code",
        "colab": {}
      },
      "source": [
        "# Save Prediction Result\n",
        "pred_new_credit.to_csv('new_credit_prediction.csv', index=False)"
      ],
      "execution_count": null,
      "outputs": []
    },
    {
      "cell_type": "markdown",
      "metadata": {
        "colab_type": "text",
        "id": "suUd6CVjbGfO"
      },
      "source": [
        "# Classification - Telco Customer Churn"
      ]
    },
    {
      "cell_type": "markdown",
      "metadata": {
        "colab_type": "text",
        "id": "4XKg0PoDbGfP"
      },
      "source": [
        "Customer churn is a major problem and one of the most important concerns for large companies. Due to the direct effect on the revenues of the companies, especially in the telecom field, companies are seeking to develop means to predict potential customer to churn. Therefore, finding factors that increase customer churn is important to take necessary actions to reduce this churn.\n",
        "\n",
        "The main contribution of our work is to develop a churn prediction model which assists telecom operators to predict customers who are most likely subject to churn. The model developed in this work uses machine learning techniques on big data platform and builds a new way of features’ engineering and selection.\n",
        "\n",
        "Here we model the classification model from telco customer churn data. This data is consist of customer profile, customer subscription history, and their churn information. We will predict customer behavior to retain customers. You can analyze all relevant customer data and develop focused customer retention programs\n",
        "\n",
        "Each row represents a customer, each column contains customer’s attributes described below:\n",
        "1.   customerID : Customer ID\n",
        "2.   gender : Whether the customer is a male or a female\n",
        "3.   SeniorCitizen : Whether the customer is a senior citizen or not (1, 0)\n",
        "4.   Partner : Whether the customer has a partner or not (Yes, No)\n",
        "5.   Dependents : Whether the customer has dependents or not (Yes, No)\n",
        "6.   tenure : Number of months the customer has stayed with the company\n",
        "7.   PhoneService : Whether the customer has a phone service or not (Yes, No)\n",
        "8.   MultipleLines : Whether the customer has multiple lines or not (Yes, No, No phone service)\n",
        "9.   InternetService : Customer’s internet service provider (DSL, Fiber optic, No)\n",
        "10.   OnlineSecurity: Whether the customer has online security or not (Yes, No, No internet service)\n",
        "11.   OnlineBackup: Whether the customer has online backup or not (Yes, No, No internet service)\n",
        "12.   DeviceProtection: Whether the customer has device protection or not (Yes, No, No internet service)\n",
        "13.   TechSupport : Whether the customer has tech support or not (Yes, No, No internet service)\n",
        "14.   StreamingTV : Whether the customer has streaming TV or not (Yes, No, No internet service)\n",
        "15.   StreamingMovies : Whether the customer has streaming movies or not (Yes, No, No internet service)\n",
        "16.   Contract : The contract term of the customer (Month-to-month, One year, Two year)\n",
        "17.   PaperlessBilling : Whether the customer has paperless billing or not (Yes, No)\n",
        "18.   PaymentMethod : The customer’s payment method (Electronic check, Mailed check, Bank transfer (automatic), Credit card (automatic))\n",
        "19.   MonthlyCharges : The amount charged to the customer monthly\n",
        "20.   TotalCharges : The total amount charged to the customer\n",
        "21.   Churn Whether: the customer churned or not (Yes or No)\n",
        "\n",
        "Source: https://www.kaggle.com/blastchar/telco-customer-churn, https://journalofbigdata.springeropen.com/articles/10.1186/s40537-019-0191-6"
      ]
    },
    {
      "cell_type": "markdown",
      "metadata": {
        "colab_type": "text",
        "id": "GXXB8uj5bGfg"
      },
      "source": [
        "#### **Import Dataset**"
      ]
    },
    {
      "cell_type": "markdown",
      "metadata": {
        "colab_type": "text",
        "id": "Uh4l008bbGfj"
      },
      "source": [
        "Import our customer churn dataset into this notebook using Pandas library. Then, we discover the dataset information and statistics."
      ]
    },
    {
      "cell_type": "markdown",
      "metadata": {
        "colab_type": "text",
        "id": "Hg7C9XIlbGfk"
      },
      "source": [
        "***Credit Risk Data***"
      ]
    },
    {
      "cell_type": "code",
      "metadata": {
        "colab_type": "code",
        "id": "NN1KD5tibGfl",
        "colab": {}
      },
      "source": [
        "# Import Dataset\n",
        "df_churn = pd.read_csv('https://raw.githubusercontent.com/dianrdn/data/master/customer_churn.csv', sep =';')\n",
        "df_churn"
      ],
      "execution_count": null,
      "outputs": []
    },
    {
      "cell_type": "code",
      "metadata": {
        "colab_type": "code",
        "id": "URHzuyU9bGft",
        "colab": {}
      },
      "source": [
        "# Prints the Dataset Information\n",
        "df_churn.info()"
      ],
      "execution_count": null,
      "outputs": []
    },
    {
      "cell_type": "code",
      "metadata": {
        "colab_type": "code",
        "id": "EseXYuLybGfz",
        "colab": {}
      },
      "source": [
        "# Prints Descriptive Statistics\n",
        "df_churn.describe().transpose()"
      ],
      "execution_count": null,
      "outputs": []
    },
    {
      "cell_type": "markdown",
      "metadata": {
        "colab_type": "text",
        "id": "wbVrAzSLbGf6"
      },
      "source": [
        "#### **Explore the Dataset**"
      ]
    },
    {
      "cell_type": "markdown",
      "metadata": {
        "colab_type": "text",
        "id": "7CS86vdTbGf6"
      },
      "source": [
        "We need to visualize the data before implement our classifier. Data visualization is the act of taking information (data) and placing it into a visual context, such as a map or graph. Data visualizations make big and small data easier for the human brain to understand, and visualization also makes it easier to detect patterns, trends, and outliers in groups of data. Here we use Seaborn library."
      ]
    },
    {
      "cell_type": "markdown",
      "metadata": {
        "colab_type": "text",
        "id": "9cPTbzZ2bGgA"
      },
      "source": [
        "***Visualize Correlation between Features***"
      ]
    },
    {
      "cell_type": "code",
      "metadata": {
        "colab_type": "code",
        "id": "iCC5gAsFbGgB",
        "colab": {}
      },
      "source": [
        "# Draw Correlation Map\n",
        "sns.clustermap(df_churn.corr(), center=0, cmap='vlag', linewidths=.75)"
      ],
      "execution_count": null,
      "outputs": []
    },
    {
      "cell_type": "markdown",
      "metadata": {
        "colab_type": "text",
        "id": "rkd0i6ymbGgF"
      },
      "source": [
        "#### **Preprocess the Data**"
      ]
    },
    {
      "cell_type": "markdown",
      "metadata": {
        "colab_type": "text",
        "id": "oY4QxU4DbGgG"
      },
      "source": [
        "We should transforms raw data into an understandable format. Raw data cannot be sent through a model because would cause certain errors. That is why we need to preprocess data before sending through a model."
      ]
    },
    {
      "cell_type": "markdown",
      "metadata": {
        "id": "iS4AMjD0dyM_",
        "colab_type": "text"
      },
      "source": [
        "***Handling Missing Values***"
      ]
    },
    {
      "cell_type": "code",
      "metadata": {
        "id": "hYnemplIdvt2",
        "colab_type": "code",
        "colab": {}
      },
      "source": [
        "# Check for Missing Values\n",
        "df_churn.isnull().sum()"
      ],
      "execution_count": null,
      "outputs": []
    },
    {
      "cell_type": "code",
      "metadata": {
        "id": "ArSqZpVJd1E9",
        "colab_type": "code",
        "colab": {}
      },
      "source": [
        "# Search for Median Value\n",
        "median = df_churn['TotalCharges'].median()\n",
        "\n",
        "# Use Median to Replace Missing Values\n",
        "df_churn['TotalCharges'].fillna(median, inplace=True)\n",
        "\n",
        "# Check for Missing Values\n",
        "df_churn.isnull().sum()"
      ],
      "execution_count": null,
      "outputs": []
    },
    {
      "cell_type": "markdown",
      "metadata": {
        "colab_type": "text",
        "id": "id9i_45ubGgH"
      },
      "source": [
        "***Encode Categorical Data***"
      ]
    },
    {
      "cell_type": "markdown",
      "metadata": {
        "colab_type": "text",
        "id": "TpqmJ1iTbGgI"
      },
      "source": [
        "Data encoding purposed to transform a categorical data into binary numeric format. Here we use OneHotencoder module from sklearn to encode our categorical data."
      ]
    },
    {
      "cell_type": "code",
      "metadata": {
        "id": "l9yxXgjDd759",
        "colab_type": "code",
        "colab": {}
      },
      "source": [
        "# Import Module\n",
        "from sklearn.preprocessing import OneHotEncoder\n",
        "\n",
        "# Encoder\n",
        "encoder = OneHotEncoder(sparse=False)\n",
        "\n",
        "# Encode Categorical Data\n",
        "df_churn2 = pd.DataFrame(encoder.fit_transform(df_churn[['gender', 'InternetService', 'Contract', 'PaymentMethod']]))\n",
        "df_churn2.columns = encoder.get_feature_names(['gender', 'InternetService', 'Contract', 'PaymentMethod'])\n",
        "\n",
        "# Replace Categotical Data with Encoded Data\n",
        "df_churn_encoded = df_churn.drop(['gender', 'InternetService', 'Contract', 'PaymentMethod'] ,axis=1, inplace=True)\n",
        "df_churn_encoded = pd.concat([df_churn, df_churn2], axis=1)\n",
        "\n",
        "# Show Encoded Dataframe\n",
        "df_churn_encoded"
      ],
      "execution_count": null,
      "outputs": []
    },
    {
      "cell_type": "markdown",
      "metadata": {
        "colab_type": "text",
        "id": "VkaYQkKcbGgT"
      },
      "source": [
        "***Select Feature and Target***"
      ]
    },
    {
      "cell_type": "markdown",
      "metadata": {
        "colab_type": "text",
        "id": "2_zPIutrbGgU"
      },
      "source": [
        "Features are individual independent variables that act as the input in your system while target is whatever the output of the input variables. "
      ]
    },
    {
      "cell_type": "code",
      "metadata": {
        "colab_type": "code",
        "id": "KE9FII45bGgV",
        "colab": {}
      },
      "source": [
        "# Select Features\n",
        "feature = df_churn_encoded.drop(['customerID', 'Churn'], axis=1)\n",
        "feature"
      ],
      "execution_count": null,
      "outputs": []
    },
    {
      "cell_type": "code",
      "metadata": {
        "colab_type": "code",
        "id": "qSDuoNTDbGga",
        "colab": {}
      },
      "source": [
        "# Select Target\n",
        "target = df_churn_encoded['Churn']\n",
        "target"
      ],
      "execution_count": null,
      "outputs": []
    },
    {
      "cell_type": "markdown",
      "metadata": {
        "colab_type": "text",
        "id": "gUW9C1qwbGgh"
      },
      "source": [
        "***Set Training and Testing Data***"
      ]
    },
    {
      "cell_type": "markdown",
      "metadata": {
        "colab_type": "text",
        "id": "xHxO6g4ObGgi"
      },
      "source": [
        "The next step is to split our data into tran and test sets. For this purpose, we use the scikit-learn's train_test_split function."
      ]
    },
    {
      "cell_type": "code",
      "metadata": {
        "colab_type": "code",
        "id": "hX8pjQ0jbGgj",
        "colab": {}
      },
      "source": [
        "# Import Module\n",
        "from sklearn.model_selection import train_test_split, cross_val_score\n",
        "\n",
        "# Set Training and Testing Data (70:30)\n",
        "from sklearn.model_selection import train_test_split, cross_val_score\n",
        "feature_train, feature_test, target_train, target_test = train_test_split(feature , target, shuffle = True, test_size=0.3, random_state=1)\n",
        "\n",
        "# Show the Training and Testing Data\n",
        "print(feature_train.shape)\n",
        "print(feature_test.shape)\n",
        "print(target_train.shape)\n",
        "print(target_test.shape)"
      ],
      "execution_count": null,
      "outputs": []
    },
    {
      "cell_type": "markdown",
      "metadata": {
        "colab_type": "text",
        "id": "icdHeeJXbGgo"
      },
      "source": [
        "#### **Modeling**"
      ]
    },
    {
      "cell_type": "markdown",
      "metadata": {
        "colab_type": "text",
        "id": "rS4PjuGzbGgp"
      },
      "source": [
        "##### **Decision Tree Classifier**"
      ]
    },
    {
      "cell_type": "markdown",
      "metadata": {
        "colab_type": "text",
        "id": "BBHAFKz6bGgp"
      },
      "source": [
        "Decision tree learning is one of the predictive modelling approaches used in statistics, data mining and machine learning. It uses a decision tree (as a predictive model) to go from observations about an item (represented in the branches) to conclusions about the item's target value (represented in the leaves)."
      ]
    },
    {
      "cell_type": "markdown",
      "metadata": {
        "colab_type": "text",
        "id": "aNJ6zGoebGgq"
      },
      "source": [
        "***Build Model***"
      ]
    },
    {
      "cell_type": "code",
      "metadata": {
        "colab_type": "code",
        "id": "NRHc96-GbGgr",
        "colab": {}
      },
      "source": [
        "# Import library\n",
        "from sklearn import tree\n",
        "\n",
        "# Modeling Decision Tree\n",
        "dtree = tree.DecisionTreeClassifier(min_impurity_decrease=0.01)\n",
        "dtree.fit(feature_train, target_train)\n",
        "\n",
        "# Predict Test Data \n",
        "target_predicted_dtree = dtree.predict(feature_test)\n",
        "target_predicted_dtree"
      ],
      "execution_count": null,
      "outputs": []
    },
    {
      "cell_type": "code",
      "metadata": {
        "colab_type": "code",
        "id": "mO-DUtS2bGgu",
        "colab": {}
      },
      "source": [
        "# Visualize Tree\n",
        "\n",
        "from sklearn.externals.six import StringIO  \n",
        "from IPython.display import Image  \n",
        "from sklearn.tree import export_graphviz\n",
        "import pydotplus\n",
        "\n",
        "dot_data = StringIO()\n",
        "export_graphviz(dtree, out_file=dot_data,  \n",
        "                filled=True, rounded=True,\n",
        "                special_characters=True,\n",
        "                class_names=['notchurn', 'churn'],\n",
        "                feature_names=['SeniorCitizen',\t'Partner',\t'Dependents', 'tenure',\t'PhoneService', 'OnlineSecurity',\t'OnlineBackup',\t'DeviceProtection',\n",
        "                               'TechSupport',\t'StreamingTV',\t'StreamingMovies',\t'PaperlessBilling',\t'MonthlyCharges', 'TotalCharges', 'gender_Female',\n",
        "                               'gender_Male',\t'InternetService_DSL', 'InternetService_Fiber optic', 'InternetService_No',\t'Contract_Month-to-month',\n",
        "                               'Contract_One year',\t'Contract_Two year',\t'PaymentMethod_Bank transfer (automatic)', 'PaymentMethod_Credit card (automatic)',\n",
        "                               'PaymentMethod_Electronic check',\t'PaymentMethod_Mailed check'])\n",
        "graph = pydotplus.graph_from_dot_data(dot_data.getvalue())  \n",
        "Image(graph.create_png())"
      ],
      "execution_count": null,
      "outputs": []
    },
    {
      "cell_type": "markdown",
      "metadata": {
        "colab_type": "text",
        "id": "U2qlHNz4bGgy"
      },
      "source": [
        "***Model Evaluation***"
      ]
    },
    {
      "cell_type": "code",
      "metadata": {
        "colab_type": "code",
        "id": "ygPIsYQCbGgy",
        "colab": {}
      },
      "source": [
        "# Confsion Matrix\n",
        "cm_dtree = metrics.confusion_matrix(target_test, target_predicted_dtree)\n",
        "cm_dtree"
      ],
      "execution_count": null,
      "outputs": []
    },
    {
      "cell_type": "code",
      "metadata": {
        "colab_type": "code",
        "id": "Iba5sqYWbGg3",
        "colab": {}
      },
      "source": [
        "# Accuracy, Precision, Recall\n",
        "acc_dtree = metrics.accuracy_score(target_test, target_predicted_dtree)\n",
        "prec_dtree = metrics.precision_score(target_test, target_predicted_dtree)\n",
        "rec_dtree = metrics.recall_score(target_test, target_predicted_dtree)\n",
        "f1_dtree = metrics.f1_score(target_test, target_predicted_dtree)\n",
        "kappa_dtree = metrics.cohen_kappa_score(target_test, target_predicted_dtree)\n",
        "\n",
        "# Show Accuracy, Precision, Recall\n",
        "print('Accuracy:', acc_dtree )\n",
        "print('Precision:', prec_dtree)\n",
        "print('Recall:', rec_dtree)\n",
        "print('F1 Score:', f1_dtree)\n",
        "print('Cohens Kappa Score:', kappa_dtree)"
      ],
      "execution_count": null,
      "outputs": []
    },
    {
      "cell_type": "code",
      "metadata": {
        "colab_type": "code",
        "id": "rEp-bxgTbGg8",
        "colab": {}
      },
      "source": [
        "# Import Visualization Package\n",
        "plt.rcParams['figure.figsize'] = (10, 10)\n",
        "plt.style.use('ggplot')\n",
        "\n",
        "# Visualize ROC Curve\n",
        "target_predicted_dtree_prob = dtree.predict_proba(feature_test)[::,1]\n",
        "fp_rate_dtree, tp_rate_dtree, _ = metrics.roc_curve(target_test,  target_predicted_dtree_prob)\n",
        "auc_dtree = metrics.roc_auc_score(target_test, target_predicted_dtree_prob)\n",
        "plt.plot(fp_rate_dtree, tp_rate_dtree, label='Decision Tree, auc='+str(auc_dtree))\n",
        "plt.xlabel('false positive rate') \n",
        "plt.ylabel('true positive rate')\n",
        "plt.legend(loc=4)\n",
        "plt.show()"
      ],
      "execution_count": null,
      "outputs": []
    },
    {
      "cell_type": "markdown",
      "metadata": {
        "colab_type": "text",
        "id": "zTabirpKbGhA"
      },
      "source": [
        "##### **K-Nearest Neighbor Classifier**"
      ]
    },
    {
      "cell_type": "markdown",
      "metadata": {
        "colab_type": "text",
        "id": "-w4RpfxvbGhB"
      },
      "source": [
        "K nearest neighbors is a simple algorithm that stores all available cases and classifies new cases based on a similarity measure (e.g., distance functions). KNN has been used in statistical estimation and pattern recognition already in the beginning of 1970's as a non-parametric technique."
      ]
    },
    {
      "cell_type": "markdown",
      "metadata": {
        "colab_type": "text",
        "id": "mMwYbQ7ObGhB"
      },
      "source": [
        "***Build Model***"
      ]
    },
    {
      "cell_type": "code",
      "metadata": {
        "colab_type": "code",
        "id": "vaju6W2EbGhC",
        "colab": {}
      },
      "source": [
        "# Import Module\n",
        "from sklearn.neighbors import KNeighborsClassifier\n",
        "\n",
        "# Modeling Naive Bayes\n",
        "knn = KNeighborsClassifier(n_neighbors= 71)\n",
        "knn.fit(feature_train, target_train)\n",
        "\n",
        "# Predict Test Data \n",
        "target_predicted_knn = knn.predict(feature_test)\n",
        "target_predicted_knn"
      ],
      "execution_count": null,
      "outputs": []
    },
    {
      "cell_type": "markdown",
      "metadata": {
        "colab_type": "text",
        "id": "xiVzPDa5bGhF"
      },
      "source": [
        "***Model Evaluation***"
      ]
    },
    {
      "cell_type": "code",
      "metadata": {
        "colab_type": "code",
        "id": "cVAAxRDYbGhG",
        "colab": {}
      },
      "source": [
        "# Confsion Matrix\n",
        "cm_knn = metrics.confusion_matrix(target_test, target_predicted_knn)\n",
        "cm_knn"
      ],
      "execution_count": null,
      "outputs": []
    },
    {
      "cell_type": "code",
      "metadata": {
        "colab_type": "code",
        "id": "aVjBu_8IbGhM",
        "colab": {}
      },
      "source": [
        "# Accuracy, Precision, Recall\n",
        "acc_knn = metrics.accuracy_score(target_test, target_predicted_knn)\n",
        "prec_knn = metrics.precision_score(target_test, target_predicted_knn)\n",
        "rec_knn = metrics.recall_score(target_test, target_predicted_knn)\n",
        "f1_knn = metrics.f1_score(target_test, target_predicted_knn)\n",
        "kappa_knn = metrics.cohen_kappa_score(target_test, target_predicted_knn)\n",
        "\n",
        "# Show Accuracy, Precision, Recall\n",
        "print('Accuracy:', acc_knn)\n",
        "print('Precision:', prec_knn)\n",
        "print('Recall:', rec_knn)\n",
        "print('F1 Score:', f1_knn)\n",
        "print('Cohens Kappa Score:', kappa_knn)"
      ],
      "execution_count": null,
      "outputs": []
    },
    {
      "cell_type": "code",
      "metadata": {
        "colab_type": "code",
        "id": "OuqX-lwubGhP",
        "colab": {}
      },
      "source": [
        "# Import Visualization Package\n",
        "plt.rcParams['figure.figsize'] = (10, 10)\n",
        "plt.style.use('ggplot')\n",
        "\n",
        "# Visualize ROC Curve\n",
        "target_predicted_knn_prob = knn.predict_proba(feature_test)[::,1]\n",
        "fp_rate_knn, tp_rate_knn, _ = metrics.roc_curve(target_test,  target_predicted_knn_prob)\n",
        "auc_knn = metrics.roc_auc_score(target_test, target_predicted_knn_prob)\n",
        "plt.plot(fp_rate_knn, tp_rate_knn, label='KNN, auc='+str(auc_knn))\n",
        "plt.xlabel('false positive rate') \n",
        "plt.ylabel('true positive rate')\n",
        "plt.legend(loc=4)\n",
        "plt.show()"
      ],
      "execution_count": null,
      "outputs": []
    },
    {
      "cell_type": "markdown",
      "metadata": {
        "colab_type": "text",
        "id": "_7eSHeblbGhS"
      },
      "source": [
        "##### **Naive Bayes Classifier**"
      ]
    },
    {
      "cell_type": "markdown",
      "metadata": {
        "colab_type": "text",
        "id": "WVKiFfGnbGhT"
      },
      "source": [
        "Naïve Bayes classifiers are a family of simple \"probabilistic classifiers\" based on applying Bayes' theorem with strong (naïve) independence assumptions between the features. Naive Bayes is a simple technique for constructing classifiers: models that assign class labels to problem instances, represented as vectors of feature values, where the class labels are drawn from some finite set."
      ]
    },
    {
      "cell_type": "markdown",
      "metadata": {
        "colab_type": "text",
        "id": "hk2Ib82dbGhU"
      },
      "source": [
        "***Build Model***"
      ]
    },
    {
      "cell_type": "code",
      "metadata": {
        "colab_type": "code",
        "id": "67QpBjEkbGhU",
        "colab": {}
      },
      "source": [
        "# Import Module\n",
        "from sklearn.naive_bayes import GaussianNB \n",
        "\n",
        "# Modeling Naive Bayes\n",
        "nb = GaussianNB()\n",
        "nb.fit(feature_train, target_train)\n",
        "\n",
        "# Predict Test Data \n",
        "target_predicted_nb = nb.predict(feature_test)\n",
        "target_predicted_nb"
      ],
      "execution_count": null,
      "outputs": []
    },
    {
      "cell_type": "markdown",
      "metadata": {
        "colab_type": "text",
        "id": "gOXC0fnobGhX"
      },
      "source": [
        "***Model Evaluation***"
      ]
    },
    {
      "cell_type": "code",
      "metadata": {
        "colab_type": "code",
        "id": "HwTr0qdnbGhY",
        "colab": {}
      },
      "source": [
        "# Confsion Matrix\n",
        "cm_nb = metrics.confusion_matrix(target_test, target_predicted_nb)\n",
        "cm_nb"
      ],
      "execution_count": null,
      "outputs": []
    },
    {
      "cell_type": "code",
      "metadata": {
        "colab_type": "code",
        "id": "Z3US8NjobGhb",
        "colab": {}
      },
      "source": [
        "# Accuracy, Precision, Recall\n",
        "acc_nb = metrics.accuracy_score(target_test, target_predicted_nb)\n",
        "prec_nb = metrics.precision_score(target_test, target_predicted_nb)\n",
        "rec_nb = metrics.recall_score(target_test, target_predicted_nb)\n",
        "f1_nb = metrics.f1_score(target_test, target_predicted_nb)\n",
        "kappa_nb = metrics.cohen_kappa_score(target_test, target_predicted_nb)\n",
        "\n",
        "# Show Accuracy, Precision, Recall\n",
        "print('Accuracy:', acc_nb)\n",
        "print('Precision:', prec_nb)\n",
        "print('Recall:', rec_nb)\n",
        "print('F1 Score:', f1_nb)\n",
        "print('Cohens Kappa Score:', kappa_nb)"
      ],
      "execution_count": null,
      "outputs": []
    },
    {
      "cell_type": "code",
      "metadata": {
        "colab_type": "code",
        "id": "_6-ZUJ7EbGhe",
        "colab": {}
      },
      "source": [
        "# Import Visualization Package\n",
        "plt.rcParams['figure.figsize'] = (10, 10)\n",
        "plt.style.use('ggplot')\n",
        "\n",
        "# Visualize ROC Curve\n",
        "target_predicted_nb_prob = nb.predict_proba(feature_test)[::,1]\n",
        "fp_rate_nb, tp_rate_nb, _ = metrics.roc_curve(target_test,  target_predicted_nb_prob)\n",
        "auc_nb = metrics.roc_auc_score(target_test, target_predicted_nb_prob)\n",
        "plt.plot(fp_rate_nb, tp_rate_nb, label='Naive Bayes, auc='+str(auc_nb))\n",
        "plt.xlabel('false positive rate') \n",
        "plt.ylabel('true positive rate')\n",
        "plt.legend(loc=4)\n",
        "plt.show()"
      ],
      "execution_count": null,
      "outputs": []
    },
    {
      "cell_type": "markdown",
      "metadata": {
        "colab_type": "text",
        "id": "g1lNfLFBbGhj"
      },
      "source": [
        "#### **Evaluating Models**"
      ]
    },
    {
      "cell_type": "markdown",
      "metadata": {
        "colab_type": "text",
        "id": "Brez-mpIbGhq"
      },
      "source": [
        "***Compare Model Performance***"
      ]
    },
    {
      "cell_type": "code",
      "metadata": {
        "colab_type": "code",
        "id": "gzzUSpf3bGhq",
        "colab": {}
      },
      "source": [
        "# Comparing Model Performance\n",
        "print('Decision Tree Accuracy =',acc_dtree)\n",
        "print('Decision Tree Precision =',prec_dtree)\n",
        "print('Decision Tree Recall =',rec_dtree)\n",
        "print('Decision Tree F1-Score =', f1_dtree)\n",
        "print('_______________________')\n",
        "print('k-NN Accuracy =', acc_knn)\n",
        "print('k-NN Precision =', prec_knn)\n",
        "print('k-NN Recall =', rec_knn)\n",
        "print('k-NN F1-Score =', f1_knn)\n",
        "print('_______________________')\n",
        "print('Naive Bayes Accuracy =', acc_nb)\n",
        "print('Naive Bayes Precision =', prec_nb)\n",
        "print('Naive Bayes Recall =', rec_nb)\n",
        "print('Naive Bayes F1-Score =', f1_nb)"
      ],
      "execution_count": null,
      "outputs": []
    },
    {
      "cell_type": "markdown",
      "metadata": {
        "colab_type": "text",
        "id": "btf9CaWFbGht"
      },
      "source": [
        "***Compare ROC Curve***"
      ]
    },
    {
      "cell_type": "code",
      "metadata": {
        "colab_type": "code",
        "id": "rXuJJ77cbGht",
        "colab": {}
      },
      "source": [
        "# Comparing ROC Curve\n",
        "plt.plot(fp_rate_dtree,tp_rate_dtree,label='Decision Tree, auc='+str(auc_dtree))\n",
        "plt.plot(fp_rate_knn,tp_rate_knn,label='K-NN, auc='+str(auc_knn))\n",
        "plt.plot(fp_rate_nb,tp_rate_nb,label='Naive Bayes, auc='+str(auc_nb))\n",
        "plt.title('ROC Curve')\n",
        "plt.xlabel('False Positive Rate')\n",
        "plt.ylabel('True Positive Rate')\n",
        "plt.legend(loc=4)\n",
        "plt.show()"
      ],
      "execution_count": null,
      "outputs": []
    }
  ]
}
